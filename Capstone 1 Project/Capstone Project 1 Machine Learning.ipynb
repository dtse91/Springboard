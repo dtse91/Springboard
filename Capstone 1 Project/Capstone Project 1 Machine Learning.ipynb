{
 "cells": [
  {
   "cell_type": "code",
   "execution_count": 1524,
   "metadata": {
    "collapsed": true
   },
   "outputs": [],
   "source": [
    "# Importing the libraries\n",
    "\n",
    "# General DS libraries\n",
    "import numpy as np\n",
    "import matplotlib.pyplot as plt\n",
    "import pandas as pd\n",
    "from collections import Counter\n",
    "\n",
    "# Machine Learning pre-processing libraries\n",
    "from sklearn.preprocessing import Imputer, LabelEncoder, OneHotEncoder, StandardScaler\n",
    "\n",
    "# Machine Learning analysis libraries\n",
    "from sklearn.dummy import DummyClassifier\n",
    "from sklearn.neighbors import KNeighborsClassifier\n",
    "from sklearn.naive_bayes import GaussianNB\n",
    "from sklearn.linear_model import LogisticRegression\n",
    "from sklearn.linear_model import Lasso\n",
    "from sklearn.svm import SVC\n",
    "from sklearn.tree import DecisionTreeClassifier\n",
    "from sklearn.ensemble import RandomForestClassifier\n",
    "from sklearn.discriminant_analysis import LinearDiscriminantAnalysis\n",
    "from sklearn.metrics import classification_report,confusion_matrix,accuracy_score\n",
    "from sklearn.model_selection import RandomizedSearchCV\n",
    "from sklearn.ensemble import GradientBoostingClassifier\n",
    "from sklearn.decomposition import PCA\n",
    "from xgboost import XGBClassifier\n",
    "\n",
    "# Machine Learning algorithm post-processing libraries\n",
    "from sklearn.model_selection import GridSearchCV, cross_val_score, KFold\n",
    "from sklearn.cross_validation import train_test_split\n",
    "from sklearn import model_selection\n",
    "import sklearn.metrics"
   ]
  },
  {
   "cell_type": "code",
   "execution_count": 1525,
   "metadata": {
    "collapsed": true
   },
   "outputs": [],
   "source": [
    "# Load stored DataFrame from data wrangling\n",
    "%store -r recent_nyc"
   ]
  },
  {
   "cell_type": "markdown",
   "metadata": {},
   "source": [
    "# Prediction of Permit Issue Times\n",
    "\n",
    "## Table of Contents\n",
    "* [9. Framing the Problem](#9.-Framing-the-Problem)\n",
    "* [10. Data Transformation](#10.-Data-Transformation)\n",
    "* [11. Compare Machine Learning Models](#11.-Compare-Machine-Learning-Models)\n",
    "* [12. Feature Importance](#12.-Feature-Importance)\n",
    "* [13. Class Imbalance](#13.-Class-Imbalance)\n",
    "* [14. Model Enhancements](#14.-Model-Enhancements)\n",
    "* [15. Resampling (Optional)](#15.-Resampling-(Optional))\n",
    "* [16. Limitations](#16.-Limitations)\n",
    "* [17. Future Work](#17.-Future-Work)\n",
    "* [18. Major Findings and Client Recommendations](#18.-Major-Findings-and-Client-Recommendations)\n",
    "* [19. Acknowledgements](#19.-Acknowledgements)"
   ]
  },
  {
   "cell_type": "markdown",
   "metadata": {},
   "source": [
    "## 9. Framing the Problem"
   ]
  },
  {
   "cell_type": "markdown",
   "metadata": {},
   "source": [
    "Supervised classification algorithms will be used to classify the issue times into time ranges. A classification approach is used because regression-based approaches are sensitive to outliers, which are present in many of the independent variables.\n",
    "\n",
    "The number of classes could largely affect model performance due to class imbalance. Binary class or three-class outcomes were considered for this project, although more classes may be used. The class time ranges were chosen to reduce class imbalance issues if possible, more specifically:\n",
    "\n",
    "- Binary outcome:\n",
    "    - class 0: 1 month to 2 months\n",
    "    - class 1: > 2 months\n",
    "- Multi-class outcome:\n",
    "    - class 0: 1 month to 3 months\n",
    "    - class 1: 3 months to 6 months\n",
    "    - class 2: >6 months\n",
    "\n",
    "Some classification algorithms to be explored include:\n",
    "- Logistic Regression (LR)\n",
    "- K-Nearest Neighbors (KNN)\n",
    "- Classification and Regression Trees (CART)\n",
    "- Support Vector Machine (SVM)\n",
    "- Random Forest (RF)\n",
    "- Naive Bayes (NB)\n",
    "- Gradient Boosted Trees (XGBoost)"
   ]
  },
  {
   "cell_type": "markdown",
   "metadata": {},
   "source": [
    "##  10. Data Transformation"
   ]
  },
  {
   "cell_type": "markdown",
   "metadata": {},
   "source": [
    "Let's first perform some feature engineering and data transformation. The filing and job start day and month are added as new features to consider."
   ]
  },
  {
   "cell_type": "code",
   "execution_count": 1526,
   "metadata": {
    "collapsed": true
   },
   "outputs": [],
   "source": [
    "def get_day(row):\n",
    "    \"\"\"Extract day of the week\"\"\"\n",
    "    day = row.dayofweek\n",
    "    return day\n",
    "\n",
    "def get_month(row):\n",
    "    \"\"\"Extract month\"\"\"\n",
    "    month = row.month\n",
    "    return month\n",
    "\n",
    "# Convert to datetime\n",
    "recent_nyc['job_start_date'] = pd.to_datetime(recent_nyc['job_start_date'],errors='coerce')\n",
    "\n",
    "# Filing date feature engineering\n",
    "recent_nyc['filing_day'] = recent_nyc.filing_date.apply(get_day)\n",
    "recent_nyc['filing_month'] = recent_nyc.filing_date.apply(get_month)\n",
    "\n",
    "# Job start date feature engineering\n",
    "recent_nyc['job_start_day'] = recent_nyc.job_start_date.apply(get_day)\n",
    "recent_nyc['job_start_month'] = recent_nyc.job_start_date.apply(get_month)"
   ]
  },
  {
   "cell_type": "markdown",
   "metadata": {},
   "source": [
    "Let's transform the datatypes for efficiency based on domain knowledge and prior insight from the EDA stage."
   ]
  },
  {
   "cell_type": "code",
   "execution_count": 1527,
   "metadata": {},
   "outputs": [
    {
     "name": "stdout",
     "output_type": "stream",
     "text": [
      "<class 'pandas.core.frame.DataFrame'>\n",
      "Int64Index: 17589 entries, 1 to 1107938\n",
      "Data columns (total 32 columns):\n",
      "borough                   17589 non-null category\n",
      "job_doc_num               17589 non-null int64\n",
      "job_type                  17589 non-null category\n",
      "block                     17589 non-null category\n",
      "lot                       17589 non-null category\n",
      "community_board           17574 non-null category\n",
      "zip_code                  17587 non-null category\n",
      "bldg_type                 17586 non-null category\n",
      "residential               10008 non-null category\n",
      "work_type                 13825 non-null category\n",
      "permit_status             17533 non-null category\n",
      "filing_status             17589 non-null category\n",
      "permit_type               17589 non-null category\n",
      "permit_subtype            9717 non-null category\n",
      "filing_date               17589 non-null datetime64[ns]\n",
      "issuance_date             17589 non-null datetime64[ns]\n",
      "expiration_date           17589 non-null datetime64[ns]\n",
      "job_start_date            17589 non-null datetime64[ns]\n",
      "permittee_license_type    17589 non-null category\n",
      "nonprofit                 17501 non-null category\n",
      "latitude                  17566 non-null float64\n",
      "longitude                 17566 non-null float64\n",
      "council_district          17566 non-null category\n",
      "census_tract              17566 non-null category\n",
      "nta_name                  17566 non-null category\n",
      "issue_time                17589 non-null float64\n",
      "issue_time_3_class        17589 non-null int64\n",
      "issue_time_2_class        17589 non-null int64\n",
      "filing_day                17589 non-null category\n",
      "filing_month              17589 non-null category\n",
      "job_start_day             17589 non-null category\n",
      "job_start_month           17589 non-null category\n",
      "dtypes: category(22), datetime64[ns](4), float64(3), int64(3)\n",
      "memory usage: 2.2 MB\n"
     ]
    }
   ],
   "source": [
    "# Convert to category data type\n",
    "category_data_types = ['residential', 'bldg_type', 'permit_status', 'filing_status', 'permit_subtype', \n",
    "                       'permittee_license_type', 'nonprofit', 'nta_name', 'council_district', \n",
    "                       'census_tract', 'filing_month', 'filing_day', 'block', 'lot', 'community_board', \n",
    "                       'zip_code', 'job_start_month', 'job_start_day']\n",
    "def convert_datatype(df, lst, dtype, num=False):\n",
    "    if num==False:\n",
    "        for i in lst:\n",
    "            df[i] = df[i].astype(dtype)\n",
    "    else:\n",
    "        for i in lst:\n",
    "            df[i] = pd.to_numeric(df['i'], errors='coerce')\n",
    "\n",
    "convert_datatype(recent_nyc, category_data_types, dtype='category')\n",
    "\n",
    "# Convert to DateTime data type\n",
    "recent_nyc.info()\n"
   ]
  },
  {
   "cell_type": "markdown",
   "metadata": {},
   "source": [
    "NaNs will cause issues with many machine learning algorithms. I've decided to create dummy variables for the NaNs in the categorical variables. For the continuous variables, more specifically latitude and longitude, I've decided to impute these values since there are only 23 out of 17589 records."
   ]
  },
  {
   "cell_type": "code",
   "execution_count": 1528,
   "metadata": {
    "scrolled": true
   },
   "outputs": [
    {
     "data": {
      "image/png": "[encoded data removed]",
      "text/plain": [
       "<Figure size 432x288 with 1 Axes>"
      ]
     },
     "metadata": {},
     "output_type": "display_data"
    }
   ],
   "source": [
    "_ = pd.Series(recent_nyc.isnull().sum()).sort_values(ascending=True).plot.barh(width=0.5)\n",
    "_ = plt.title('NaN Frequency')\n",
    "plt.show()"
   ]
  },
  {
   "cell_type": "code",
   "execution_count": 1529,
   "metadata": {},
   "outputs": [
    {
     "data": {
      "text/plain": [
       "borough                   0   \n",
       "job_doc_num               0   \n",
       "job_type                  0   \n",
       "block                     0   \n",
       "lot                       0   \n",
       "community_board           15  \n",
       "zip_code                  2   \n",
       "bldg_type                 3   \n",
       "residential               7581\n",
       "work_type                 3764\n",
       "permit_status             56  \n",
       "filing_status             0   \n",
       "permit_type               0   \n",
       "permit_subtype            7872\n",
       "filing_date               0   \n",
       "issuance_date             0   \n",
       "expiration_date           0   \n",
       "job_start_date            0   \n",
       "permittee_license_type    0   \n",
       "nonprofit                 88  \n",
       "latitude                  23  \n",
       "longitude                 23  \n",
       "council_district          23  \n",
       "census_tract              23  \n",
       "nta_name                  23  \n",
       "issue_time                0   \n",
       "issue_time_3_class        0   \n",
       "issue_time_2_class        0   \n",
       "filing_day                0   \n",
       "filing_month              0   \n",
       "job_start_day             0   \n",
       "job_start_month           0   \n",
       "dtype: int64"
      ]
     },
     "execution_count": 1529,
     "metadata": {},
     "output_type": "execute_result"
    }
   ],
   "source": [
    "recent_nyc.isnull().sum()"
   ]
  },
  {
   "cell_type": "code",
   "execution_count": 1530,
   "metadata": {},
   "outputs": [
    {
     "name": "stdout",
     "output_type": "stream",
     "text": [
      "<class 'pandas.core.frame.DataFrame'>\n",
      "Int64Index: 17589 entries, 1 to 1107938\n",
      "Columns: 155 entries, job_doc_num to job_start_month_nan\n",
      "dtypes: float64(2), int64(1), uint8(152)\n",
      "memory usage: 3.1 MB\n"
     ]
    },
    {
     "data": {
      "text/html": [
       "<div>\n",
       "<style>\n",
       "    .dataframe thead tr:only-child th {\n",
       "        text-align: right;\n",
       "    }\n",
       "\n",
       "    .dataframe thead th {\n",
       "        text-align: left;\n",
       "    }\n",
       "\n",
       "    .dataframe tbody tr th {\n",
       "        vertical-align: top;\n",
       "    }\n",
       "</style>\n",
       "<table border=\"1\" class=\"dataframe\">\n",
       "  <thead>\n",
       "    <tr style=\"text-align: right;\">\n",
       "      <th></th>\n",
       "      <th>job_doc_num</th>\n",
       "      <th>latitude</th>\n",
       "      <th>longitude</th>\n",
       "      <th>borough_BROOKLYN</th>\n",
       "      <th>borough_MANHATTAN</th>\n",
       "      <th>borough_QUEENS</th>\n",
       "      <th>borough_STATEN ISLAND</th>\n",
       "      <th>borough_nan</th>\n",
       "      <th>job_type_A2</th>\n",
       "      <th>job_type_A3</th>\n",
       "      <th>...</th>\n",
       "      <th>job_start_month_4.0</th>\n",
       "      <th>job_start_month_5.0</th>\n",
       "      <th>job_start_month_6.0</th>\n",
       "      <th>job_start_month_7.0</th>\n",
       "      <th>job_start_month_8.0</th>\n",
       "      <th>job_start_month_9.0</th>\n",
       "      <th>job_start_month_10.0</th>\n",
       "      <th>job_start_month_11.0</th>\n",
       "      <th>job_start_month_12.0</th>\n",
       "      <th>job_start_month_nan</th>\n",
       "    </tr>\n",
       "  </thead>\n",
       "  <tbody>\n",
       "    <tr>\n",
       "      <th>1</th>\n",
       "      <td>1</td>\n",
       "      <td>40.686314</td>\n",
       "      <td>-73.996264</td>\n",
       "      <td>1</td>\n",
       "      <td>0</td>\n",
       "      <td>0</td>\n",
       "      <td>0</td>\n",
       "      <td>0</td>\n",
       "      <td>1</td>\n",
       "      <td>0</td>\n",
       "      <td>...</td>\n",
       "      <td>0</td>\n",
       "      <td>0</td>\n",
       "      <td>0</td>\n",
       "      <td>0</td>\n",
       "      <td>0</td>\n",
       "      <td>0</td>\n",
       "      <td>1</td>\n",
       "      <td>0</td>\n",
       "      <td>0</td>\n",
       "      <td>0</td>\n",
       "    </tr>\n",
       "    <tr>\n",
       "      <th>2</th>\n",
       "      <td>1</td>\n",
       "      <td>40.644270</td>\n",
       "      <td>-73.958834</td>\n",
       "      <td>1</td>\n",
       "      <td>0</td>\n",
       "      <td>0</td>\n",
       "      <td>0</td>\n",
       "      <td>0</td>\n",
       "      <td>1</td>\n",
       "      <td>0</td>\n",
       "      <td>...</td>\n",
       "      <td>0</td>\n",
       "      <td>1</td>\n",
       "      <td>0</td>\n",
       "      <td>0</td>\n",
       "      <td>0</td>\n",
       "      <td>0</td>\n",
       "      <td>0</td>\n",
       "      <td>0</td>\n",
       "      <td>0</td>\n",
       "      <td>0</td>\n",
       "    </tr>\n",
       "    <tr>\n",
       "      <th>3</th>\n",
       "      <td>1</td>\n",
       "      <td>40.644270</td>\n",
       "      <td>-73.958834</td>\n",
       "      <td>1</td>\n",
       "      <td>0</td>\n",
       "      <td>0</td>\n",
       "      <td>0</td>\n",
       "      <td>0</td>\n",
       "      <td>1</td>\n",
       "      <td>0</td>\n",
       "      <td>...</td>\n",
       "      <td>0</td>\n",
       "      <td>1</td>\n",
       "      <td>0</td>\n",
       "      <td>0</td>\n",
       "      <td>0</td>\n",
       "      <td>0</td>\n",
       "      <td>0</td>\n",
       "      <td>0</td>\n",
       "      <td>0</td>\n",
       "      <td>0</td>\n",
       "    </tr>\n",
       "    <tr>\n",
       "      <th>8</th>\n",
       "      <td>1</td>\n",
       "      <td>40.636519</td>\n",
       "      <td>-74.022731</td>\n",
       "      <td>1</td>\n",
       "      <td>0</td>\n",
       "      <td>0</td>\n",
       "      <td>0</td>\n",
       "      <td>0</td>\n",
       "      <td>1</td>\n",
       "      <td>0</td>\n",
       "      <td>...</td>\n",
       "      <td>0</td>\n",
       "      <td>1</td>\n",
       "      <td>0</td>\n",
       "      <td>0</td>\n",
       "      <td>0</td>\n",
       "      <td>0</td>\n",
       "      <td>0</td>\n",
       "      <td>0</td>\n",
       "      <td>0</td>\n",
       "      <td>0</td>\n",
       "    </tr>\n",
       "    <tr>\n",
       "      <th>9</th>\n",
       "      <td>1</td>\n",
       "      <td>40.645788</td>\n",
       "      <td>-73.944217</td>\n",
       "      <td>1</td>\n",
       "      <td>0</td>\n",
       "      <td>0</td>\n",
       "      <td>0</td>\n",
       "      <td>0</td>\n",
       "      <td>1</td>\n",
       "      <td>0</td>\n",
       "      <td>...</td>\n",
       "      <td>0</td>\n",
       "      <td>1</td>\n",
       "      <td>0</td>\n",
       "      <td>0</td>\n",
       "      <td>0</td>\n",
       "      <td>0</td>\n",
       "      <td>0</td>\n",
       "      <td>0</td>\n",
       "      <td>0</td>\n",
       "      <td>0</td>\n",
       "    </tr>\n",
       "  </tbody>\n",
       "</table>\n",
       "<p>5 rows × 155 columns</p>\n",
       "</div>"
      ],
      "text/plain": [
       "   job_doc_num   latitude  longitude  borough_BROOKLYN  borough_MANHATTAN  \\\n",
       "1  1            40.686314 -73.996264  1                 0                   \n",
       "2  1            40.644270 -73.958834  1                 0                   \n",
       "3  1            40.644270 -73.958834  1                 0                   \n",
       "8  1            40.636519 -74.022731  1                 0                   \n",
       "9  1            40.645788 -73.944217  1                 0                   \n",
       "\n",
       "   borough_QUEENS  borough_STATEN ISLAND  borough_nan  job_type_A2  \\\n",
       "1  0               0                      0            1             \n",
       "2  0               0                      0            1             \n",
       "3  0               0                      0            1             \n",
       "8  0               0                      0            1             \n",
       "9  0               0                      0            1             \n",
       "\n",
       "   job_type_A3         ...           job_start_month_4.0  job_start_month_5.0  \\\n",
       "1  0                   ...           0                    0                     \n",
       "2  0                   ...           0                    1                     \n",
       "3  0                   ...           0                    1                     \n",
       "8  0                   ...           0                    1                     \n",
       "9  0                   ...           0                    1                     \n",
       "\n",
       "   job_start_month_6.0  job_start_month_7.0  job_start_month_8.0  \\\n",
       "1  0                    0                    0                     \n",
       "2  0                    0                    0                     \n",
       "3  0                    0                    0                     \n",
       "8  0                    0                    0                     \n",
       "9  0                    0                    0                     \n",
       "\n",
       "   job_start_month_9.0  job_start_month_10.0  job_start_month_11.0  \\\n",
       "1  0                    1                     0                      \n",
       "2  0                    0                     0                      \n",
       "3  0                    0                     0                      \n",
       "8  0                    0                     0                      \n",
       "9  0                    0                     0                      \n",
       "\n",
       "   job_start_month_12.0  job_start_month_nan  \n",
       "1  0                     0                    \n",
       "2  0                     0                    \n",
       "3  0                     0                    \n",
       "8  0                     0                    \n",
       "9  0                     0                    \n",
       "\n",
       "[5 rows x 155 columns]"
      ]
     },
     "execution_count": 1530,
     "metadata": {},
     "output_type": "execute_result"
    }
   ],
   "source": [
    "X = pd.get_dummies(recent_nyc.loc[:, ['borough','job_type', 'bldg_type', 'work_type', 'permit_status',\n",
    "                                        'filing_status', 'permit_type', 'permit_subtype',\n",
    "                                        'permittee_license_type', 'nonprofit',\n",
    "                                        'council_district', 'filing_day', 'filing_month', 'job_doc_num',\n",
    "                                        'job_start_day', 'job_start_month', 'latitude', 'longitude']], drop_first=True, dummy_na=True)\n",
    "Y = recent_nyc['issue_time_2_class'].values\n",
    "# Y = recent_nyc['issue_time_3_class'].values\n",
    "X.info()\n",
    "X.head()\n"
   ]
  },
  {
   "cell_type": "markdown",
   "metadata": {},
   "source": [
    "Let's first prepare our data for machine learning by transforming the categorical data by creating dummy variables. We do this using pd.get_dummies and setting 'drop_first=True' to avoid the dummy variable trap, i.e. we avoid feeding redundant information to the algorithm."
   ]
  },
  {
   "cell_type": "markdown",
   "metadata": {},
   "source": [
    "Now that all of the data is in numerical form we have some options to appropriately transform the data to ensure that the machine learning algorithms provide appropriate results. We may:\n",
    "- Rescale data\n",
    "- Standardize data\n",
    "- Normalize data\n",
    "- Binarize data\n",
    "\n",
    "For this project, I will standardize the data from the test and train splits."
   ]
  },
  {
   "cell_type": "code",
   "execution_count": 1531,
   "metadata": {
    "collapsed": true
   },
   "outputs": [],
   "source": [
    "X_columns = X.columns\n",
    "imputer = Imputer(missing_values='NaN', strategy='most_frequent', axis=0)\n",
    "X = imputer.fit_transform(X)\n",
    "X = pd.DataFrame(X)\n",
    "X.columns = X_columns"
   ]
  },
  {
   "cell_type": "code",
   "execution_count": 1532,
   "metadata": {
    "collapsed": true
   },
   "outputs": [],
   "source": [
    "# Splitting the dataset into the Training set and Test set\n",
    "X_train, X_test, Y_train, Y_test = train_test_split(X, Y, test_size=0.25, random_state=0)\n",
    "\n",
    "# Scale\n",
    "sc = StandardScaler()\n",
    "X_train = sc.fit_transform(X_train)\n",
    "X_test = sc.transform(X_test)\n"
   ]
  },
  {
   "cell_type": "markdown",
   "metadata": {},
   "source": [
    "## 11. Compare Machine Learning Models"
   ]
  },
  {
   "cell_type": "markdown",
   "metadata": {},
   "source": [
    "Before tuning hyperparameters and other optimizations, it'd be a good idea to figure out which algorithm may work best for our given problem. Let's try a mixture of modeling types, e.g. linear and nonlinear functions or parametric and\n",
    "nonparametric."
   ]
  },
  {
   "cell_type": "code",
   "execution_count": 1547,
   "metadata": {},
   "outputs": [
    {
     "name": "stdout",
     "output_type": "stream",
     "text": [
      "DUMMY: 0.529908 (0.012118)\n",
      "LR: 0.630958 (0.014571)\n",
      "KNN: 0.610186 (0.015115)\n",
      "CART: 0.695544 (0.039398)\n",
      "NB: 0.605941 (0.023196)\n",
      "SVM: 0.667953 (0.016043)\n",
      "RF: 0.669926 (0.015679)\n"
     ]
    },
    {
     "data": {
      "image/png": "[encoded data removed]",
      "text/plain": [
       "<Figure size 432x288 with 1 Axes>"
      ]
     },
     "metadata": {},
     "output_type": "display_data"
    }
   ],
   "source": [
    "# Load dataset\n",
    "X_compare = X_train\n",
    "Y_compare = Y_train\n",
    "\n",
    "# Prepare configuration for cross validation test harness\n",
    "seed = 7\n",
    "\n",
    "# Prepare models\n",
    "models = []\n",
    "models.append(('DUMMY', DummyClassifier()))\n",
    "models.append(('LR', LogisticRegression()))\n",
    "models.append(('KNN', KNeighborsClassifier()))\n",
    "models.append(('CART', DecisionTreeClassifier()))\n",
    "models.append(('NB', GaussianNB()))\n",
    "models.append(('SVM', SVC()))\n",
    "models.append(('RF', RandomForestClassifier()))\n",
    "\n",
    "# Evaluate each model in turn\n",
    "results = []\n",
    "names = []\n",
    "scoring = 'accuracy'\n",
    "for name, model in models:\n",
    "    kfold = model_selection.KFold(n_splits=10, random_state=seed)\n",
    "    cv_results = model_selection.cross_val_score(model, X_compare, Y_compare, cv=kfold, scoring=scoring)\n",
    "    results.append(cv_results)\n",
    "    names.append(name)\n",
    "    msg = \"%s: %f (%f)\" % (name, cv_results.mean(), cv_results.std())\n",
    "    print(msg)\n",
    "\n",
    "# boxplot algorithm comparison\n",
    "fig = plt.figure()\n",
    "fig.suptitle('Algorithm Comparison')\n",
    "ax = fig.add_subplot(111)\n",
    "plt.boxplot(results)\n",
    "ax.set_xticklabels(names)\n",
    "plt.show()"
   ]
  },
  {
   "cell_type": "markdown",
   "metadata": {},
   "source": [
    "## 12. Feature Importance"
   ]
  },
  {
   "cell_type": "markdown",
   "metadata": {},
   "source": [
    "After splitting, let's identify the most important features in our dataset that contribute most to our prediction variable. Irrelevant features would decrease accuracy especially for linear algorithms, e.g. linear regression and logistic regression. Here are some other benefits:\n",
    "\n",
    "- Reduces Overfitting: Less redundant data means less opportunity to make decisions based on noise.\n",
    "- Improves Accuracy: Less misleading data means modeling accuracy improves.\n",
    "- Reduces Training Time: Less data means that algorithms train faster."
   ]
  },
  {
   "cell_type": "code",
   "execution_count": 1534,
   "metadata": {},
   "outputs": [
    {
     "data": {
      "image/png": "[encoded data removed]",
      "text/plain": [
       "<Figure size 432x288 with 1 Axes>"
      ]
     },
     "metadata": {},
     "output_type": "display_data"
    }
   ],
   "source": [
    "classifier = RandomForestClassifier(n_jobs = -1)\n",
    "classifier.fit(X_train, Y_train)\n",
    "feature_importance = pd.DataFrame(classifier.feature_importances_)\n",
    "# feature_importance = feature_importance/np.max(feature_importance.iloc[:, 0])\n",
    "feature_importance = feature_importance\n",
    "\n",
    "feature_importance.index = X.columns\n",
    "n_largest = feature_importance.nlargest(25, 0)\n",
    "\n",
    "\n",
    "n_largest.plot.barh(width=0.5, legend=False)\n",
    "_ = plt.title('Normalized Feature Importance From Decision Tree Classifier')\n",
    "plt.show()"
   ]
  },
  {
   "cell_type": "markdown",
   "metadata": {},
   "source": [
    "## 13. Class Imbalance"
   ]
  },
  {
   "cell_type": "markdown",
   "metadata": {},
   "source": [
    "The classes were purposefully chosen to reduce the effects of class imbalance."
   ]
  },
  {
   "cell_type": "code",
   "execution_count": 1535,
   "metadata": {},
   "outputs": [
    {
     "name": "stdout",
     "output_type": "stream",
     "text": [
      "Class 0: 11057\n",
      "Class 1: 6532\n"
     ]
    },
    {
     "data": {
      "image/png": "[encoded data removed]",
      "text/plain": [
       "<Figure size 432x288 with 1 Axes>"
      ]
     },
     "metadata": {},
     "output_type": "display_data"
    }
   ],
   "source": [
    "target_count = recent_nyc.issue_time_2_class.value_counts()\n",
    "print('Class 0:', target_count[0])\n",
    "print('Class 1:', target_count[1])\n",
    "target_count.plot(kind='bar', title='Count (target)')\n",
    "plt.show()"
   ]
  },
  {
   "cell_type": "code",
   "execution_count": 1536,
   "metadata": {},
   "outputs": [
    {
     "name": "stdout",
     "output_type": "stream",
     "text": [
      "Class 0: 6128\n",
      "Class 1: 5697\n",
      "Class 2: 5764\n"
     ]
    },
    {
     "data": {
      "image/png": "[encoded data removed]",
      "text/plain": [
       "<Figure size 432x288 with 1 Axes>"
      ]
     },
     "metadata": {},
     "output_type": "display_data"
    }
   ],
   "source": [
    "target_count = recent_nyc.issue_time_3_class.value_counts()\n",
    "print('Class 0:', target_count[0])\n",
    "print('Class 1:', target_count[1])\n",
    "print('Class 2:', target_count[2])\n",
    "\n",
    "target_count.plot(kind='bar', title='Count (target)')\n",
    "plt.show()"
   ]
  },
  {
   "cell_type": "markdown",
   "metadata": {},
   "source": [
    "## 14. Model Enhancements"
   ]
  },
  {
   "cell_type": "markdown",
   "metadata": {},
   "source": [
    "Based on the initial non-optimized runs of several kinds of algorithms in section 11, I will now focus on running tree-based classifiers as they seem to have the best initial metrics."
   ]
  },
  {
   "cell_type": "markdown",
   "metadata": {},
   "source": [
    "Some classification metrics to consider include:\n",
    "* **Classification Accuracy**: Number of correct predictions made as a ratio of all predictions made\n",
    "    * Note: Suitable when there are an equal number of observations in each class. Predictions and prediction errors are equally important  \n",
    "* **Logarithmic Loss**: Evaluates the predictions of probabilities of membership to a given class. The scalar probability between 0 and 1 can be seen as a measure of confidence for a prediction by an algorithm. Predictions that are correct or incorrect are rewarded or punished proportionally to the confidence of the prediction.\n",
    "    * Note: Smaller logloss is better with 0 representing a perfect logloss.\n",
    "* **Area Under ROC Curve**: Evaluates a model's ability to discriminate between positive and negative classes\n",
    "    * Note: Used for binary classification problems. 1.0 = Perfect, 0.5 = Random\n",
    "* **Confusion Matrix**: Presents the accuracy of a model with two or more classes\n",
    "* **Classification Report**: Displays the precision, recall, F1-score and support for each class"
   ]
  },
  {
   "cell_type": "markdown",
   "metadata": {},
   "source": [
    "Starting with a Dummy Classifier, we may use this as a benchmark for other supervisied classification algorithms."
   ]
  },
  {
   "cell_type": "code",
   "execution_count": 1537,
   "metadata": {},
   "outputs": [
    {
     "name": "stdout",
     "output_type": "stream",
     "text": [
      "neg_log_loss : -15.922 (0.455)\n",
      "accuracy : 0.537 (0.015)\n",
      "Classification Report: \n",
      "              precision    recall  f1-score   support\n",
      "\n",
      "          0       0.63      0.63      0.63      2730\n",
      "          1       0.39      0.39      0.39      1668\n",
      "\n",
      "avg / total       0.54      0.54      0.54      4398\n",
      " \n",
      "\n"
     ]
    }
   ],
   "source": [
    "# K-Fold Cross-Validation\n",
    "num_folds = 10\n",
    "seed = 42\n",
    "kfold = KFold(n_splits=num_folds, random_state=seed)\n",
    "model = DummyClassifier()\n",
    "scoring = ['neg_log_loss', 'accuracy']\n",
    "for score in scoring:\n",
    "    results = cross_val_score(model, X_train, Y_train, cv=kfold, scoring=score)\n",
    "    print(score,\": %.3f (%.3f)\" % (results.mean(), results.std()))\n",
    "model.fit(X_train, Y_train)\n",
    "Y_pred = model.predict(X_test)\n",
    "report = classification_report(Y_test, Y_pred)\n",
    "print('Classification Report: \\n', classification_report(Y_test, Y_pred), '\\n')"
   ]
  },
  {
   "cell_type": "markdown",
   "metadata": {},
   "source": [
    "The Receiver Operator Characteristic (ROC) curve shows an almost 45 degree line, which is to be expected when a classifier is as good as flipping a coin."
   ]
  },
  {
   "cell_type": "code",
   "execution_count": 1538,
   "metadata": {},
   "outputs": [
    {
     "data": {
      "image/png": "[encoded data removed]",
      "text/plain": [
       "<Figure size 432x288 with 1 Axes>"
      ]
     },
     "metadata": {},
     "output_type": "display_data"
    }
   ],
   "source": [
    "# Visualize the Receiver Operator Curve (ROC)\n",
    "# Calculate the False Positive Rate (FPR) and True Positive Rate (TPR) for all thresholds of the classification\n",
    "#.90-1 = excellent (A)\n",
    "#.80-.90 = good (B)\n",
    "#.70-.80 = fair (C)\n",
    "#.60-.70 = poor (D)\n",
    "#.50-.60 = fail (F)\n",
    "probs = model.predict_proba(X_test) # returns probability estimates for test set \n",
    "preds = probs[:,1]\n",
    "fpr, tpr, threshold = sklearn.metrics.roc_curve(Y_test, preds)\n",
    "roc_auc = sklearn.metrics.auc(fpr, tpr)\n",
    "plt.title('Receiver Operating Characteristic')\n",
    "plt.plot(fpr, tpr, 'b', label = 'AUC = %0.2f' % roc_auc)\n",
    "plt.legend(loc = 'lower right')\n",
    "plt.plot([0, 1], [0, 1],'r--')\n",
    "plt.xlim([0, 1])\n",
    "plt.ylim([0, 1])\n",
    "plt.ylabel('True Positive Rate')\n",
    "plt.xlabel('False Positive Rate')\n",
    "plt.show()"
   ]
  },
  {
   "cell_type": "markdown",
   "metadata": {},
   "source": [
    "Random forest classifiers are an ensemble of decision tree classifiers. They have the key advantages of computational efficiency and an ability to handle high dimensions well. Because randomness is introduced in the selection of records and features, the random forest reduces overfitting, which decision trees are more prone."
   ]
  },
  {
   "cell_type": "code",
   "execution_count": 1539,
   "metadata": {},
   "outputs": [
    {
     "name": "stdout",
     "output_type": "stream",
     "text": [
      "neg_log_loss : -0.565 (0.011)\n",
      "accuracy : 0.691 (0.016)\n",
      "Classification Report: \n",
      "              precision    recall  f1-score   support\n",
      "\n",
      "          0       0.69      0.92      0.79      2730\n",
      "          1       0.70      0.32      0.44      1668\n",
      "\n",
      "avg / total       0.69      0.69      0.65      4398\n",
      " \n",
      "\n"
     ]
    }
   ],
   "source": [
    "param_grid = {\n",
    "    'n_estimators': [10, 100, 200, 300]\n",
    "}\n",
    "\n",
    "# K-Fold Cross-Validation\n",
    "num_folds = 10\n",
    "seed = 42\n",
    "kfold = KFold(n_splits=num_folds, random_state=seed)\n",
    "model = RandomForestClassifier()\n",
    "model = GridSearchCV(estimator = model, param_grid = param_grid, \n",
    "                     cv = num_folds, n_jobs = -1)\n",
    "scoring = ['neg_log_loss', 'accuracy']\n",
    "for score in scoring:\n",
    "    results = cross_val_score(model, X_train, Y_train, cv=kfold, scoring=score)\n",
    "    print(score,\": %.3f (%.3f)\" % (results.mean(), results.std()))\n",
    "\n",
    "model.fit(X_train, Y_train)\n",
    "Y_pred = model.predict(X_test)\n",
    "report = classification_report(Y_test, Y_pred)\n",
    "print('Classification Report: \\n', classification_report(Y_test, Y_pred), '\\n')"
   ]
  },
  {
   "cell_type": "code",
   "execution_count": 1540,
   "metadata": {},
   "outputs": [
    {
     "data": {
      "image/png": "[encoded data removed]",
      "text/plain": [
       "<Figure size 432x288 with 1 Axes>"
      ]
     },
     "metadata": {},
     "output_type": "display_data"
    }
   ],
   "source": [
    "# Visualize the Receiver Operator Curve (ROC)\n",
    "# Calculate the False Positive Rate (FPR) and True Positive Rate (TPR) for all thresholds of the classification\n",
    "#.90-1 = excellent (A)\n",
    "#.80-.90 = good (B)\n",
    "#.70-.80 = fair (C)\n",
    "#.60-.70 = poor (D)\n",
    "#.50-.60 = fail (F)\n",
    "probs = model.predict_proba(X_test) # returns probability estimates for test set \n",
    "preds = probs[:,1]\n",
    "fpr, tpr, threshold = sklearn.metrics.roc_curve(Y_test, preds)\n",
    "roc_auc = sklearn.metrics.auc(fpr, tpr)\n",
    "plt.title('Receiver Operating Characteristic')\n",
    "plt.plot(fpr, tpr, 'b', label = 'AUC = %0.2f' % roc_auc)\n",
    "plt.legend(loc = 'lower right')\n",
    "plt.plot([0, 1], [0, 1],'r--')\n",
    "plt.xlim([0, 1])\n",
    "plt.ylim([0, 1])\n",
    "plt.ylabel('True Positive Rate')\n",
    "plt.xlabel('False Positive Rate')\n",
    "plt.show()"
   ]
  },
  {
   "cell_type": "markdown",
   "metadata": {},
   "source": [
    "Gradient Boosted Trees are sequentially grown trees that aims to improve predictions from previously grown trees. In boosting, because the growth of a particular tree takes into account the other trees that have already been grown, smaller trees are typically sufficient. Using smaller trees can aid in interpretability as well; for instance, using stumps leads to an additive model.\n",
    "\n",
    "Random Forest on the other hand typically does not use decision stumps, but uses rather complex trees.\n",
    "\n",
    "https://www.ime.unicamp.br/~dias/Intoduction%20to%20Statistical%20Learning.pdf"
   ]
  },
  {
   "cell_type": "code",
   "execution_count": 1546,
   "metadata": {},
   "outputs": [
    {
     "name": "stdout",
     "output_type": "stream",
     "text": [
      "neg_log_loss : -0.551 (0.016)\n",
      "accuracy : 0.714 (0.022)\n",
      "Classification Report: \n",
      "              precision    recall  f1-score   support\n",
      "\n",
      "          0       0.71      0.92      0.80      2730\n",
      "          1       0.74      0.40      0.52      1668\n",
      "\n",
      "avg / total       0.72      0.72      0.69      4398\n",
      " \n",
      "\n"
     ]
    }
   ],
   "source": [
    "import warnings\n",
    "warnings.filterwarnings(\"ignore\", category=DeprecationWarning)\n",
    "\n",
    "# K-Fold Cross-Validation\n",
    "num_folds = 10\n",
    "seed = 42\n",
    "kfold = KFold(n_splits=num_folds, random_state=seed)\n",
    "model = XGBClassifier()\n",
    "\n",
    "model = GridSearchCV(estimator = model, param_grid = param_grid, \n",
    "                     cv = num_folds, n_jobs = -1)\n",
    "scoring = ['neg_log_loss', 'accuracy']\n",
    "for score in scoring:\n",
    "    results = cross_val_score(model, X_train, Y_train, cv=kfold, scoring=score)\n",
    "    print(score,\": %.3f (%.3f)\" % (results.mean(), results.std()))\n",
    "\n",
    "model.fit(X_train, Y_train)\n",
    "Y_pred = model.predict(X_test)\n",
    "report = classification_report(Y_test, Y_pred)\n",
    "print('Classification Report: \\n', classification_report(Y_test, Y_pred), '\\n')\n",
    "\n",
    "#best_accuracy = grid_search.best_score_\n",
    "#best_parameters = grid_search.best_params_\n",
    "#print(best_accuracy, best_parameters)\n",
    "#cm = confusion_matrix(y_test, y_pred)\n",
    "#print('Confusion Matrix: \\n', cm, '\\n')\n",
    "#print('Classification Report: \\n', classification_report(y_test,y_pred), '\\n')\n",
    "#print('Accuracy Score: %.10f '% sklearn.metrics.accuracy_score(y_test, y_pred))"
   ]
  },
  {
   "cell_type": "code",
   "execution_count": 1542,
   "metadata": {},
   "outputs": [
    {
     "data": {
      "image/png": "[encoded data removed]",
      "text/plain": [
       "<Figure size 432x288 with 1 Axes>"
      ]
     },
     "metadata": {},
     "output_type": "display_data"
    }
   ],
   "source": [
    "# Visualize the Receiver Operator Curve (ROC)\n",
    "# Calculate the False Positive Rate (FPR) and True Positive Rate (TPR) for all thresholds of the classification\n",
    "#.90-1 = excellent (A)\n",
    "#.80-.90 = good (B)\n",
    "#.70-.80 = fair (C)\n",
    "#.60-.70 = poor (D)\n",
    "#.50-.60 = fail (F)\n",
    "probs = model.predict_proba(X_test) # returns probability estimates for test set \n",
    "preds = probs[:,1]\n",
    "fpr, tpr, threshold = sklearn.metrics.roc_curve(Y_test, preds)\n",
    "roc_auc = sklearn.metrics.auc(fpr, tpr)\n",
    "plt.title('Receiver Operating Characteristic')\n",
    "plt.plot(fpr, tpr, 'b', label = 'AUC = %0.2f' % roc_auc)\n",
    "plt.legend(loc = 'lower right')\n",
    "plt.plot([0, 1], [0, 1],'r--')\n",
    "plt.xlim([0, 1])\n",
    "plt.ylim([0, 1])\n",
    "plt.ylabel('True Positive Rate')\n",
    "plt.xlabel('False Positive Rate')\n",
    "plt.show()"
   ]
  },
  {
   "cell_type": "markdown",
   "metadata": {},
   "source": [
    "## 15. Resampling (Optional)"
   ]
  },
  {
   "cell_type": "markdown",
   "metadata": {},
   "source": [
    "Resampling may be used if classes are extremely unbalanced. The binary dependent variable, however, was engineered to reduce the effects of class imbalance."
   ]
  },
  {
   "cell_type": "code",
   "execution_count": 1543,
   "metadata": {
    "collapsed": true
   },
   "outputs": [],
   "source": [
    "# # Oversampling on training set\n",
    "# from imblearn.over_sampling import RandomOverSampler\n",
    "# ros = RandomOverSampler()\n",
    "# X_ros, Y_ros = ros.fit_sample(X_train, Y_train)\n",
    "\n",
    "# # Undersampling on training set\n",
    "# from imblearn.under_sampling import RandomUnderSampler\n",
    "# rus = RandomUnderSampler()\n",
    "# X_rus, Y_rus = rus.fit_sample(X_train, Y_train)\n",
    "\n",
    "# # Synthetic Minority Over-sampling Technique (SMOTE) on training set\n",
    "# from imblearn.over_sampling import SMOTE\n",
    "# smote = SMOTE(ratio='minority')\n",
    "# X_sm, Y_sm = smote.fit_sample(X_train, Y_train)\n",
    "\n",
    "# # Synthetic Minority Over-sampling Technique (SMOTE) with Tomek Links on training set\n",
    "# from imblearn.combine import SMOTETomek\n",
    "# smt = SMOTETomek(ratio='auto')\n",
    "# X_smt, Y_smt = smt.fit_sample(X_train, Y_train)\n",
    "\n",
    "# # K-Fold Cross-Validation\n",
    "# num_folds = 5\n",
    "# seed = 7\n",
    "# kfold = KFold(n_splits=num_folds, random_state=seed)\n",
    "# model = RandomForestClassifier()\n",
    "\n",
    "# # Create resampling list to loop over\n",
    "# X_resamples = [(X_ros, Y_ros, 'Oversampling'), (X_rus, Y_rus, 'Undersampling'), \n",
    "#                (X_sm, Y_sm, 'SMOTE'), (X_smt, Y_smt, 'SMOTETomek')]\n",
    "\n",
    "# # Extract accuracy, before/after class value counts, and classification report for each resampling technique\n",
    "# for X_resample in X_resamples:\n",
    "#     X_res, Y_res, technique = X_resample\n",
    "#     results = cross_val_score(model, X_res, Y_res, cv=kfold, scoring='accuracy')\n",
    "#     print(technique)\n",
    "#     print(score,\": %.3f (%.3f)\" % (results.mean(), results.std()))\n",
    "#     model.fit(X_res, Y_res)\n",
    "#     print (\"Distribution of class labels before resampling \\n{}\".format(Counter(Y_train)))\n",
    "#     print (\"Distribution of class labels after resampling \\n{}\".format(Counter(Y_res)))\n",
    "#     Y_pred = model.predict(X_test)\n",
    "#     report = classification_report(Y_test, Y_pred)\n",
    "#     print('Classification Report: \\n', classification_report(Y_test, Y_pred), '\\n')"
   ]
  },
  {
   "cell_type": "markdown",
   "metadata": {},
   "source": [
    "## 16. Limitations"
   ]
  },
  {
   "cell_type": "markdown",
   "metadata": {},
   "source": [
    "- The building permit data did not include the cost of the proposed work. It may be the case that proposed work with large economic value to the city may get pushed ahead of the queue.\n",
    "\n",
    "- Building permit expeditors typically reduces turnaround time for permit applications, which may introduce bias into the dataset."
   ]
  },
  {
   "cell_type": "markdown",
   "metadata": {},
   "source": [
    "## 17. Future Work"
   ]
  },
  {
   "cell_type": "markdown",
   "metadata": {},
   "source": [
    "- Investigate framing the problem into a multi-class problem.\n",
    "\n",
    "- Try incorporating other related datasets that may boost the signal, such as population and houeshold income datasets to better understand why location is a strong predictor. \n"
   ]
  },
  {
   "cell_type": "markdown",
   "metadata": {},
   "source": [
    "## 18. Major Findings and Client Recommendations"
   ]
  },
  {
   "cell_type": "markdown",
   "metadata": {},
   "source": [
    "**Real Estate Developers/ Homeowners:**\n",
    "\n",
    "1) Location, job start time and filing time are the most important features in building issue times. \n",
    "\n",
    "2) Use the Gradient Boosted Trees algorithm to predict building permit issue times for non-trivial work items, e.g. new buildings and major alterations that will change the use, egress, or occupancy of the building.\n",
    "\n",
    "3) For minor work, such as electrical work and demolition, involving single building departments expect issue times of less than a month.\n",
    "\n",
    "**NYC Building Department:**\n",
    "\n",
    "Minimal information is provided about issue times on the website. One solution is to provide a web service that allows applicants to take an online survey, which provides an building permit issue time range based on what was checked on the survey. The issue time range could be based on statistics from the past 5 years.\n"
   ]
  },
  {
   "cell_type": "markdown",
   "metadata": {},
   "source": [
    "## 19. Acknowledgements"
   ]
  },
  {
   "cell_type": "markdown",
   "metadata": {},
   "source": [
    "I would like to thank Springboard, especially my mentor Scott Clendaniel for the advice and support throughout the capstone project."
   ]
  },
  {
   "cell_type": "markdown",
   "metadata": {},
   "source": [
    "Sources:\n",
    "- https://www.kaggle.com/rafjaa/resampling-strategies-for-imbalanced-datasets\n",
    "- https://elitedatascience.com/imbalanced-classes\n",
    "- https://www.marcoaltini.com/blog/dealing-with-imbalanced-data-undersampling-oversampling-and-proper-cross-validation\n",
    "- https://www.kaggle.com/muonneutrino/new-york-city-census-data/version/2#nyc_census_tracts.csv\n",
    "- https://transition.fcc.gov/form477/Geo/more_about_census_tracts.pdf\n",
    "- https://www.featuretools.com/\n",
    "- https://beckernick.github.io/oversampling-modeling/\n",
    "- https://machinelearningmastery.com/tactics-to-combat-imbalanced-classes-in-your-machine-learning-dataset/\n",
    "- http://kseow.com/guides/\n",
    "- https://dziganto.github.io/cross-validation/data%20science/machine%20learning/model%20tuning/python/Model-Tuning-with-Validation-and-Cross-Validation/"
   ]
  }
 ],
 "metadata": {
  "kernelspec": {
   "display_name": "Python 3",
   "language": "python",
   "name": "python3"
  },
  "language_info": {
   "codemirror_mode": {
    "name": "ipython",
    "version": 3
   },
   "file_extension": ".py",
   "mimetype": "text/x-python",
   "name": "python",
   "nbconvert_exporter": "python",
   "pygments_lexer": "ipython3",
   "version": "3.6.3"
  }
 },
 "nbformat": 4,
 "nbformat_minor": 2
}
