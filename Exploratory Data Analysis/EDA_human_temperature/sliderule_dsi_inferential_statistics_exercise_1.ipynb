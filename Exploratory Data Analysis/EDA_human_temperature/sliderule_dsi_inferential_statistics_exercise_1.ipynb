{
 "cells": [
  {
   "cell_type": "markdown",
   "metadata": {},
   "source": [
    "# What is the True Normal Human Body Temperature? \n",
    "\n",
    "#### Background\n",
    "\n",
    "The mean normal body temperature was held to be 37$^{\\circ}$C or 98.6$^{\\circ}$F for more than 120 years since it was first conceptualized and reported by Carl Wunderlich in a famous 1868 book. But, is this value statistically correct?"
   ]
  },
  {
   "cell_type": "markdown",
   "metadata": {},
   "source": [
    "<h3>Exercises</h3>\n",
    "\n",
    "<p>In this exercise, you will analyze a dataset of human body temperatures and employ the concepts of hypothesis testing, confidence intervals, and statistical significance.</p>\n",
    "\n",
    "<p>Answer the following questions <b>in this notebook below and submit to your Github account</b>.</p> \n",
    "\n",
    "<ol>\n",
    "<li>  Is the distribution of body temperatures normal? \n",
    "    <ul>\n",
    "    <li> Although this is not a requirement for the Central Limit Theorem to hold (read the introduction on Wikipedia's page about the CLT carefully: https://en.wikipedia.org/wiki/Central_limit_theorem), it gives us some peace of mind that the population may also be normally distributed if we assume that this sample is representative of the population.\n",
    "    <li> Think about the way you're going to check for the normality of the distribution. Graphical methods are usually used first, but there are also other ways: https://en.wikipedia.org/wiki/Normality_test\n",
    "    </ul>\n",
    "<li>  Is the sample size large? Are the observations independent?\n",
    "    <ul>\n",
    "    <li> Remember that this is a condition for the Central Limit Theorem, and hence the statistical tests we are using, to apply.\n",
    "    </ul>\n",
    "<li>  Is the true population mean really 98.6 degrees F?\n",
    "    <ul>\n",
    "    <li> First, try a bootstrap hypothesis test.\n",
    "    <li> Now, let's try frequentist statistical testing. Would you use a one-sample or two-sample test? Why?\n",
    "    <li> In this situation, is it appropriate to use the $t$ or $z$ statistic? \n",
    "    <li> Now try using the other test. How is the result be different? Why?\n",
    "    </ul>\n",
    "<li>  Draw a small sample of size 10 from the data and repeat both frequentist tests. \n",
    "    <ul>\n",
    "    <li> Which one is the correct one to use? \n",
    "    <li> What do you notice? What does this tell you about the difference in application of the $t$ and $z$ statistic?\n",
    "    </ul>\n",
    "<li>  At what temperature should we consider someone's temperature to be \"abnormal\"?\n",
    "    <ul>\n",
    "    <li> As in the previous example, try calculating everything using the boostrap approach, as well as the frequentist approach.\n",
    "    <li> Start by computing the margin of error and confidence interval. When calculating the confidence interval, keep in mind that you should use the appropriate formula for one draw, and not N draws.\n",
    "    </ul>\n",
    "<li>  Is there a significant difference between males and females in normal temperature?\n",
    "    <ul>\n",
    "    <li> What testing approach did you use and why?\n",
    "    <li> Write a story with your conclusion in the context of the original problem.\n",
    "    </ul>\n",
    "</ol>\n",
    "\n",
    "You can include written notes in notebook cells using Markdown: \n",
    "   - In the control panel at the top, choose Cell > Cell Type > Markdown\n",
    "   - Markdown syntax: http://nestacms.com/docs/creating-content/markdown-cheat-sheet\n",
    "\n",
    "#### Resources\n",
    "\n",
    "+ Information and data sources: http://www.amstat.org/publications/jse/datasets/normtemp.txt, http://www.amstat.org/publications/jse/jse_data_archive.htm\n",
    "+ Markdown syntax: http://nestacms.com/docs/creating-content/markdown-cheat-sheet\n",
    "\n",
    "****"
   ]
  },
  {
   "cell_type": "code",
   "execution_count": 303,
   "metadata": {
    "collapsed": true
   },
   "outputs": [],
   "source": [
    "import pandas as pd\n",
    "\n",
    "df = pd.read_csv('data/human_body_temperature.csv')"
   ]
  },
  {
   "cell_type": "markdown",
   "metadata": {},
   "source": [
    "### 1. Is the distribution of body temperatures normal?"
   ]
  },
  {
   "cell_type": "code",
   "execution_count": 304,
   "metadata": {},
   "outputs": [
    {
     "data": {
      "text/html": [
       "<div>\n",
       "<style>\n",
       "    .dataframe thead tr:only-child th {\n",
       "        text-align: right;\n",
       "    }\n",
       "\n",
       "    .dataframe thead th {\n",
       "        text-align: left;\n",
       "    }\n",
       "\n",
       "    .dataframe tbody tr th {\n",
       "        vertical-align: top;\n",
       "    }\n",
       "</style>\n",
       "<table border=\"1\" class=\"dataframe\">\n",
       "  <thead>\n",
       "    <tr style=\"text-align: right;\">\n",
       "      <th></th>\n",
       "      <th>temperature</th>\n",
       "      <th>gender</th>\n",
       "      <th>heart_rate</th>\n",
       "    </tr>\n",
       "  </thead>\n",
       "  <tbody>\n",
       "    <tr>\n",
       "      <th>0</th>\n",
       "      <td>99.3</td>\n",
       "      <td>F</td>\n",
       "      <td>68.0</td>\n",
       "    </tr>\n",
       "    <tr>\n",
       "      <th>1</th>\n",
       "      <td>98.4</td>\n",
       "      <td>F</td>\n",
       "      <td>81.0</td>\n",
       "    </tr>\n",
       "    <tr>\n",
       "      <th>2</th>\n",
       "      <td>97.8</td>\n",
       "      <td>M</td>\n",
       "      <td>73.0</td>\n",
       "    </tr>\n",
       "    <tr>\n",
       "      <th>3</th>\n",
       "      <td>99.2</td>\n",
       "      <td>F</td>\n",
       "      <td>66.0</td>\n",
       "    </tr>\n",
       "    <tr>\n",
       "      <th>4</th>\n",
       "      <td>98.0</td>\n",
       "      <td>F</td>\n",
       "      <td>73.0</td>\n",
       "    </tr>\n",
       "  </tbody>\n",
       "</table>\n",
       "</div>"
      ],
      "text/plain": [
       "   temperature gender  heart_rate\n",
       "0         99.3      F        68.0\n",
       "1         98.4      F        81.0\n",
       "2         97.8      M        73.0\n",
       "3         99.2      F        66.0\n",
       "4         98.0      F        73.0"
      ]
     },
     "execution_count": 304,
     "metadata": {},
     "output_type": "execute_result"
    }
   ],
   "source": [
    "import numpy as np\n",
    "import scipy.stats as stats\n",
    "import matplotlib.pyplot as plt\n",
    "import pylab \n",
    "df.head()"
   ]
  },
  {
   "cell_type": "code",
   "execution_count": 305,
   "metadata": {},
   "outputs": [
    {
     "data": {
      "image/png": "[encoded data removed]",
      "text/plain": [
       "<matplotlib.figure.Figure at 0x113bc95c0>"
      ]
     },
     "metadata": {},
     "output_type": "display_data"
    }
   ],
   "source": [
    "# An informal approach to testing normality is to compare a histogram of the sample data to a normal probability curve.\n",
    "# Plot histogram\n",
    "plt.hist(df.temperature, width=0.25, normed=True) # set normed true because we are comparing to a pdf\n",
    "plt.xlabel('Body Temperature ( °F)')\n",
    "plt.title('Body Temperature Histogram')\n",
    "\n",
    "# Overlay plot of normal distribution\n",
    "x = np.linspace(96, 101, 100)\n",
    "temp_mean = np.mean(df.temperature)\n",
    "temp_std = np.std(df.temperature)\n",
    "pdf = stats.norm.pdf(x, temp_mean, temp_std)\n",
    "plt.plot(x, pdf) \n",
    "plt.show()\n",
    "\n",
    "# The empirical distribution of the data (the histogram) is bell-shaped and resembles the normal distribution."
   ]
  },
  {
   "cell_type": "code",
   "execution_count": 306,
   "metadata": {},
   "outputs": [
    {
     "data": {
      "image/png": "[encoded data removed]",
      "text/plain": [
       "<matplotlib.figure.Figure at 0x112f72160>"
      ]
     },
     "metadata": {},
     "output_type": "display_data"
    }
   ],
   "source": [
    "# A graphical tool for assessing normality is the normal probability plot, a quantile-quantile plot (QQ plot) \n",
    "# ... of the standardized data against the standard normal distribution\n",
    "stats.probplot(df.temperature, dist=\"norm\", plot=pylab)\n",
    "pylab.show()"
   ]
  },
  {
   "cell_type": "code",
   "execution_count": 307,
   "metadata": {},
   "outputs": [
    {
     "name": "stdout",
     "output_type": "stream",
     "text": [
      "z-statistic =  2.704   p-value = 0.2587\n"
     ]
    }
   ],
   "source": [
    "# Null hypothesis: a sample comes from a normal distribution\n",
    "# Alternative hypothesis: the data is not following a normal distribution\n",
    "# alpha (significance level) = 0.05\n",
    "normal_test = stats.mstats.normaltest(df.temperature) \n",
    "#print('Normality test z-statistic: ' + str(round(normal_test[0], 3)) + '\\n' \n",
    "#      + 'p-value: ' + str(round(normal_test[1], 3)))\n",
    "\n",
    "print('z-statistic = %6.3f   p-value = %6.4f' % (normal_test[0], normal_test[1]))\n",
    "# p-value > alpha, therefore we fail to reject the null hypothesis "
   ]
  },
  {
   "cell_type": "markdown",
   "metadata": {},
   "source": [
    "### 2. Is the sample size large? Are the observations independent?"
   ]
  },
  {
   "cell_type": "code",
   "execution_count": 308,
   "metadata": {},
   "outputs": [
    {
     "name": "stdout",
     "output_type": "stream",
     "text": [
      "Temperature samples: 130\n"
     ]
    }
   ],
   "source": [
    "temp_size = df.temperature.size\n",
    "print('Temperature samples: ' + str(temp_size))"
   ]
  },
  {
   "cell_type": "markdown",
   "metadata": {},
   "source": [
    "The sample size is 130, which is greater than the 30 (a requirement of the central limit theorem). We also assume that the observations are independent because reading a patient's body temperature is generally not known to affect another person's temperature reading. Therefore, we may use the central limit theorem."
   ]
  },
  {
   "cell_type": "markdown",
   "metadata": {},
   "source": [
    "### 3. Is the true population mean really 98.6 degrees F?\n"
   ]
  },
  {
   "cell_type": "markdown",
   "metadata": {},
   "source": [
    "#### 3.1. First, try a bootstrap hypothesis test.\n",
    "\n",
    "Here we will use the population mean as our test statistic. \n",
    "\n",
    "H_0: μ = 98.6 degrees F\n",
    "\n",
    "H_1: μ ≠ 98.6 degrees F\n",
    "\n",
    "α = 0.05"
   ]
  },
  {
   "cell_type": "code",
   "execution_count": 309,
   "metadata": {},
   "outputs": [
    {
     "name": "stdout",
     "output_type": "stream",
     "text": [
      "p-value = 0.00000\n"
     ]
    }
   ],
   "source": [
    "# Bootstapping requires boot strap samples and then calculating the bootstrap replicates\n",
    "def bootstrap_replicate_1d(data, func):\n",
    "    \"\"\"Generate a single bootstrap replicate.\"\"\"\n",
    "    return func(np.random.choice(data, size=len(data)))\n",
    "\n",
    "def draw_bs_reps(data, func, size=1):\n",
    "    \"\"\"Draw bootstrap replicates.\"\"\"\n",
    "\n",
    "    # Initialize array of replicates: bs_replicates\n",
    "    bs_replicates = np.empty(size)\n",
    "\n",
    "    # Generate replicates\n",
    "    for i in range(size):\n",
    "        bs_replicates[i] = bootstrap_replicate_1d(data,func)\n",
    "\n",
    "    return bs_replicates\n",
    "\n",
    "pop_temp = 98.6\n",
    "\n",
    "# Make an array of translated temperatures to the population: translated_temp\n",
    "translated_temp = df.temperature + (pop_temp - np.mean(df.temperature))\n",
    "\n",
    "# Take bootstrap replicates of Frog B's translated impact forces: bs_replicates\n",
    "bs_replicates = draw_bs_reps(translated_temp, np.mean, 10000)\n",
    "\n",
    "# Compute fraction of replicates that are less than the observed Frog B force: p\n",
    "p_val = np.sum(bs_replicates <= temp_mean) / 10000\n",
    "\n",
    "print('p-value = %.5f' % (p_val))\n",
    "\n",
    "# p < α, therefore we reject the null hypothesis, H_0: μ = 98.6 deg F, \n",
    "# ... in favor of the alternate hypothesis, H_1: μ ≠ 98.6 deg. F\n"
   ]
  },
  {
   "cell_type": "markdown",
   "metadata": {},
   "source": [
    "#### 3.2. Now, let's try frequentist statistical testing. Would you use a one-sample or two-sample test? Why? In this situation, is it appropriate to use the  t  or  z  statistic?\n",
    "\n",
    "We use a one-sample test because we are comparing a sample mean to a population mean. We are not interested in comparing a one sample mean to another sample mean, i.e. a two-sample test. In this situation is it appropriate to use a t-statistic as the test statistic. We meet the requirement of at least 30 samples for a z-test, however we are only given the population mean of 98.6 without a population standard deviation so a z-test cannot be used.\n",
    "\n",
    "H_0: μ = 98.6 degrees F\n",
    "\n",
    "H_1: μ ≠ 98.6 degrees F\n",
    "\n",
    "α = 0.05\n"
   ]
  },
  {
   "cell_type": "code",
   "execution_count": 310,
   "metadata": {},
   "outputs": [
    {
     "name": "stdout",
     "output_type": "stream",
     "text": [
      "t-statistic = -5.47593   p-value = 0.00000022\n"
     ]
    }
   ],
   "source": [
    "# Calculate the t-statistic and its associated p-value\n",
    "n = len(df.temperature)\n",
    "std_error = temp_std/np.sqrt(n)\n",
    "t_statistic = (temp_mean - pop_temp)/std_error\n",
    "p_val = stats.t.sf(np.abs(t_statistic), n-1)*2 # two-sided p-value with n-1 degrees of freedom\n",
    "print('t-statistic = %.5f   p-value = %.8f' % (t_statistic, p_val))"
   ]
  },
  {
   "cell_type": "markdown",
   "metadata": {},
   "source": [
    "#### 3.3. Now try using the other test. How is the result be different? Why?\n",
    "\n",
    "The resulting t-statistic, z-statistic and p-values are extremely close to one another. As the number of samples increases, the t-distribution will approach the normal z-distribution."
   ]
  },
  {
   "cell_type": "code",
   "execution_count": 311,
   "metadata": {},
   "outputs": [
    {
     "name": "stdout",
     "output_type": "stream",
     "text": [
      "z-statistic = -5.47593   p-value = 0.00000004\n"
     ]
    }
   ],
   "source": [
    "# Calculate the z-statistic and its associated p-value\n",
    "z_statistic = (temp_mean - pop_temp)/std_error\n",
    "p_val = stats.norm.sf(np.abs(z_statistic))*2 # two-sided p-value\n",
    "print('z-statistic = %.5f   p-value = %.8f' % (z_statistic, p_val))"
   ]
  },
  {
   "cell_type": "markdown",
   "metadata": {},
   "source": [
    "### 4. Draw a small sample of size 10 from the data and repeat both frequentist tests."
   ]
  },
  {
   "cell_type": "code",
   "execution_count": 312,
   "metadata": {},
   "outputs": [
    {
     "name": "stdout",
     "output_type": "stream",
     "text": [
      "t-statistic = -1.51875   p-value = 0.16314214\n"
     ]
    }
   ],
   "source": [
    "# Calculate the t-statistic and its associated p-value with n = 10\n",
    "n_small = 10\n",
    "std_error = temp_std/np.sqrt(n_small)\n",
    "t_statistic = (temp_mean - pop_temp)/std_error\n",
    "p_val = stats.t.sf(np.abs(t_statistic), n_small-1)*2 # two-sided p-value with n-1 degrees of freedom\n",
    "print('t-statistic = %.5f   p-value = %.8f' % (t_statistic, p_val))"
   ]
  },
  {
   "cell_type": "code",
   "execution_count": 313,
   "metadata": {},
   "outputs": [
    {
     "name": "stdout",
     "output_type": "stream",
     "text": [
      "z-statistic = -1.51875   p-value = 0.12882584\n"
     ]
    }
   ],
   "source": [
    "# Calculate the z-statistic and its associated p-value\n",
    "z_statistic = (temp_mean - pop_temp)/std_error\n",
    "p_val = stats.norm.sf(np.abs(z_statistic))*2 # two-sided p-value\n",
    "print('z-statistic = %.5f   p-value = %.8f' % (z_statistic, p_val))"
   ]
  },
  {
   "cell_type": "markdown",
   "metadata": {},
   "source": [
    "#### 4.1. Which one is the correct one to use?\n",
    "\n",
    "It is better to use a t-test in this particular problem because our sample size is less than 30 (n = 10) and the population standard is not known. The z-test is best used for greater than 30 samples because, under the central limit theorem, as the number of samples gets larger, the samples are considered to be approximately normally distributed.\n",
    "\n",
    "\n",
    "#### 4.2. What do you notice? What does this tell you about the difference in application of the  t  and  z  statistic?\n",
    "\n",
    "The p-value is lower for the z-statistic, which may lead to a type I error (false positive), which is typically more undesirable in practice compared to a type II error, e.g. a drug that doesn't actually cure the disease even though the tests show statistical significance.\n",
    "\n",
    "Also, t-tests because of the central limit theorem, many test statistics are approximately normally distributed for large samples. For each significance level, the Z-test has a single critical value (for example, 1.96 for 5% two tailed) which makes it more convenient than the Student's t-test which has separate critical values for each sample size."
   ]
  },
  {
   "cell_type": "markdown",
   "metadata": {},
   "source": [
    "### 5. At what temperature should we consider someone's temperature to be \"abnormal\"?"
   ]
  },
  {
   "cell_type": "markdown",
   "metadata": {},
   "source": [
    "#### 5.1. As in the previous example, try calculating everything using the boostrap approach, as well as the frequentist approach. Start by computing the margin of error and confidence interval. When calculating the confidence interval, keep in mind that you should use the appropriate formula for one draw, and not N draws.\n",
    "\n",
    "A confidence interval gives bounds on the range of parameter values you might expect to get if we repeated our measurements. The confidence interval using both approaches informs us that the true mean temperature shall fall between 97.80 and 98.7 using the frequentist approach, while the bootstrap approach is between 98.48 and 98.725. The boot strap method seems to provide a narrow range compared to the frequentist approach. The two frequentist approaches (z-distribution and t-distribution) provide near identical results."
   ]
  },
  {
   "cell_type": "code",
   "execution_count": 314,
   "metadata": {},
   "outputs": [
    {
     "name": "stdout",
     "output_type": "stream",
     "text": [
      "95% Confidence Interval: [98.476, 98.725]\n"
     ]
    }
   ],
   "source": [
    "# Bootstrap approach: 95% confidence interval\n",
    "# Bootstrapping allows us to take percentiles of the bootstrap replicates to get the confidence interval\n",
    "bootstrap_CI_95 = np.percentile(bs_replicates,[2.5,97.5])\n",
    "bootstrap_CI_95 = [round(bootstrap_CI_95[0],3), round(bootstrap_CI_95[1],3)]\n",
    "print('95% Confidence Interval: ' + str(bootstrap_CI_95))"
   ]
  },
  {
   "cell_type": "code",
   "execution_count": 315,
   "metadata": {},
   "outputs": [
    {
     "name": "stdout",
     "output_type": "stream",
     "text": [
      "95% Confidence Interval: [97.797, 98.702]\n"
     ]
    }
   ],
   "source": [
    "# Frequentist approach with normal z-distribution: 95% confidence interval\n",
    "Z = 1.96\n",
    "freq_ztest_CI_95 = [round(temp_mean - Z*std_error,3), round(temp_mean + Z*std_error,3)]\n",
    "print('95% Confidence Interval: ' + str(freq_ztest_CI_95))"
   ]
  },
  {
   "cell_type": "code",
   "execution_count": 316,
   "metadata": {},
   "outputs": [
    {
     "name": "stdout",
     "output_type": "stream",
     "text": [
      "95% Confidence Interval: [97.792, 98.706]\n"
     ]
    }
   ],
   "source": [
    "# Frequentist approach with t-distribution: 95% confidence interval\n",
    "crit = stats.t.isf([0.025], n-1)\n",
    "freq_ttest_CI_95 = [round(temp_mean - crit[0]*std_error, 3), round(temp_mean + crit[0]*std_error, 3)]\n",
    "print('95% Confidence Interval: ' + str(freq_ttest_CI_95))"
   ]
  },
  {
   "cell_type": "markdown",
   "metadata": {},
   "source": [
    "### 6. Is there a significant difference between males and females in normal temperature?\n"
   ]
  },
  {
   "cell_type": "code",
   "execution_count": 321,
   "metadata": {},
   "outputs": [
    {
     "data": {
      "image/png": "[encoded data removed]",
      "text/plain": [
       "<matplotlib.figure.Figure at 0x1130da630>"
      ]
     },
     "metadata": {},
     "output_type": "display_data"
    },
    {
     "data": {
      "image/png": "[encoded data removed]",
      "text/plain": [
       "<matplotlib.figure.Figure at 0x113164898>"
      ]
     },
     "metadata": {},
     "output_type": "display_data"
    }
   ],
   "source": [
    "# Perform EDA before hypothesis testing\n",
    "\n",
    "# Create male dataframe\n",
    "male_df = df.loc[df.gender == 'M']\n",
    "\n",
    "# Plot histogram\n",
    "plt.hist(male_df.temperature, width=0.25, normed=True, range=[96, 101]) # set normed true because we are comparing to a pdf\n",
    "plt.xlabel('Body Temperature ( °F)')\n",
    "plt.title('Male Body Temperature Histogram')\n",
    "plt.show()\n",
    "\n",
    "# Create female dataframe\n",
    "female_df = df.loc[df.gender == 'F']\n",
    "\n",
    "# Plot histogram\n",
    "plt.hist(female_df.temperature, width=0.25, normed=True, range=[96, 101]) # set normed true because we are comparing to a pdf\n",
    "plt.xlabel('Body Temperature ( °F)')\n",
    "plt.title('Female Body Temperature Histogram')\n",
    "plt.show()\n"
   ]
  },
  {
   "cell_type": "markdown",
   "metadata": {},
   "source": [
    "#### 6.1. What testing approach did you use and why?\n",
    "\n",
    "We will use both the bootstrap and the frequentist approach (Student's T-test) to evaluate statistical significance between the difference in male and female body mean temperature. \n",
    "\n",
    "H_0: male μ = female μ\n",
    "\n",
    "H_1: male μ ≠ female μ\n",
    "\n",
    "α = 0.05\n",
    "\n",
    "To do the two-sample bootstrap test, we shift both arrays to have the same mean, since we are simulating the hypothesis that their means are, in fact, equal. We then draw bootstrap samples out of the shifted arrays and compute the difference in means. This constitutes a bootstrap replicate, and we generate many of them. The p-value is the fraction of replicates with a difference in means greater than or equal to what was observed."
   ]
  },
  {
   "cell_type": "code",
   "execution_count": 318,
   "metadata": {},
   "outputs": [
    {
     "name": "stdout",
     "output_type": "stream",
     "text": [
      "p-value = 0.01\n"
     ]
    }
   ],
   "source": [
    "# Perform a two-sample bootstrap hypothesis test\n",
    "def diff_of_means(data_1, data_2):\n",
    "    \"\"\"Difference in means of two arrays.\"\"\"\n",
    "\n",
    "    # The difference of means of data_1, data_2: diff\n",
    "    diff = np.mean(data_1) - np.mean(data_2)\n",
    "\n",
    "    return diff\n",
    "\n",
    "# Empirical difference in means of the two samples\n",
    "empirical_diff_means = diff_of_means(female_df.temperature, male_df.temperature)\n",
    "\n",
    "# Generate shifted arrays\n",
    "male_shifted = male_df.temperature - np.mean(male_df.temperature) + temp_mean\n",
    "female_shifted = female_df.temperature - np.mean(female_df.temperature) + temp_mean\n",
    "\n",
    "# Compute 10,000 bootstrap replicates from shifted arrays\n",
    "bs_replicates_male = draw_bs_reps(male_shifted, np.mean, size=10000)\n",
    "bs_replicates_female = draw_bs_reps(female_shifted, np.mean, size=10000)\n",
    "\n",
    "# Get replicates of difference of means: bs_replicates\n",
    "bs_replicates = bs_replicates_female - bs_replicates_male\n",
    "\n",
    "# Compute and print p-value: p\n",
    "p = np.sum(bs_replicates >= empirical_diff_means) / len(bs_replicates)\n",
    "print('p-value =', p)"
   ]
  },
  {
   "cell_type": "code",
   "execution_count": 319,
   "metadata": {},
   "outputs": [
    {
     "name": "stdout",
     "output_type": "stream",
     "text": [
      "t-statistic = 2.285   p-value = 0.0239\n"
     ]
    }
   ],
   "source": [
    "# Perform a two-sample t-test hypothesis test\n",
    "male_temp_std = male_df.temperature.std()\n",
    "female_temp_std = female_df.temperature.std()\n",
    "\n",
    "male_n = len(male_df)\n",
    "female_n = len(female_df)\n",
    "\n",
    "std_error = np.sqrt(np.square(male_temp_std)/male_n + np.square(female_temp_std)/female_n)\n",
    "t_statistic = (empirical_diff_means)/std_error\n",
    "p_val = stats.t.sf(np.abs(t_statistic), n-1)*2 # two-sided p-value with n-1 degrees of freedom\n",
    "print('t-statistic = %.3f   p-value = %.4f' % (t_statistic, p_val))"
   ]
  },
  {
   "cell_type": "markdown",
   "metadata": {},
   "source": [
    "Both the two-sample bootstrap and t-test hypothesis test show that we must reject the null hypothesis, male μ = female μ, in favor of the alternate hypothesis, male μ ≠ female μ. "
   ]
  },
  {
   "cell_type": "markdown",
   "metadata": {},
   "source": [
    "#### 6.2. Write a story with your conclusion in the context of the original problem.\n",
    "\n",
    "The generally accepted mean body temperature is 98.6∘F. In our analysis we have shown that there is high statistical significance that the true population mean is not 98.6∘F. We used two techniques: resampling methods (bootstrapping) and frequentist statistics (z and t-tests). For bootstrapping, we calculated a p-value of of 0.0005. The t-statistic and z-statistic was -5.47593 with a p-value of 0.00000022 and -5.47593 with a p-value of 0.00000004, respectively.\n",
    "\n",
    "We have also shown that there is statistically significant difference in men and women mean body temperature. For bootstrapping we calculated a p-value of of 0.012. Using frequentist statistics, we calculated a t-statistic of 2.285 with a p-value of 0.023. Although there is statistical significance for the significance level typically used in biological research (α = 0.05), this study could use more stringent significance levels perhaps at 0.01. With a 0.01 significance level, both the bootstrapping and t-tests fail the reject the null hypothesis. Lowering the significance level will avoid unecessary false positives. Also, even if women have higher core temperatures, it would be interesting to evaluate if there is also a difference in men and women in terms of mean extremity (e.g. feet, hands, etc.) temperature. Organizations may use this study to improve products and services targeted to men and women where body temperature is important, e.g. clothing. "
   ]
  }
 ],
 "metadata": {
  "kernelspec": {
   "display_name": "Python 3",
   "language": "python",
   "name": "python3"
  },
  "language_info": {
   "codemirror_mode": {
    "name": "ipython",
    "version": 3
   },
   "file_extension": ".py",
   "mimetype": "text/x-python",
   "name": "python",
   "nbconvert_exporter": "python",
   "pygments_lexer": "ipython3",
   "version": "3.6.3"
  }
 },
 "nbformat": 4,
 "nbformat_minor": 1
}
