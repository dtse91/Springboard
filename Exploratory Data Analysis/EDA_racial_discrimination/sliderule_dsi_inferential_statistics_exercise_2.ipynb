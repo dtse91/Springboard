{
 "cells": [
  {
   "cell_type": "markdown",
   "metadata": {},
   "source": [
    "# Examining Racial Discrimination in the US Job Market\n",
    "\n",
    "### Background\n",
    "Racial discrimination continues to be pervasive in cultures throughout the world. Researchers examined the level of racial discrimination in the United States labor market by randomly assigning identical résumés to black-sounding or white-sounding names and observing the impact on requests for interviews from employers.\n",
    "\n",
    "### Data\n",
    "In the dataset provided, each row represents a resume. The 'race' column has two values, 'b' and 'w', indicating black-sounding and white-sounding. The column 'call' has two values, 1 and 0, indicating whether the resume received a call from employers or not.\n",
    "\n",
    "Note that the 'b' and 'w' values in race are assigned randomly to the resumes when presented to the employer."
   ]
  },
  {
   "cell_type": "markdown",
   "metadata": {},
   "source": [
    "\n",
    "### Exercises\n",
    "You will perform a statistical analysis to establish whether race has a significant impact on the rate of callbacks for resumes.\n",
    "\n",
    "Answer the following questions **in this notebook below and submit to your Github account**. \n",
    "\n",
    "   1. What test is appropriate for this problem? Does CLT apply?\n",
    "   2. What are the null and alternate hypotheses?\n",
    "   3. Compute margin of error, confidence interval, and p-value. Try using both the bootstrapping and the frequentist statistical approaches.\n",
    "   4. Write a story describing the statistical significance in the context or the original problem.\n",
    "   5. Does your analysis mean that race/name is the most important factor in callback success? Why or why not? If not, how would you amend your analysis?\n",
    "\n",
    "You can include written notes in notebook cells using Markdown: \n",
    "   - In the control panel at the top, choose Cell > Cell Type > Markdown\n",
    "   - Markdown syntax: http://nestacms.com/docs/creating-content/markdown-cheat-sheet\n",
    "\n",
    "\n",
    "#### Resources\n",
    "+ Experiment information and data source: http://www.povertyactionlab.org/evaluation/discrimination-job-market-united-states\n",
    "+ Scipy statistical methods: http://docs.scipy.org/doc/scipy/reference/stats.html \n",
    "+ Markdown syntax: http://nestacms.com/docs/creating-content/markdown-cheat-sheet\n",
    "+ Formulas for the Bernoulli distribution: https://en.wikipedia.org/wiki/Bernoulli_distribution\n"
   ]
  },
  {
   "cell_type": "code",
   "execution_count": 402,
   "metadata": {
    "collapsed": true
   },
   "outputs": [],
   "source": [
    "import pandas as pd\n",
    "import numpy as np\n",
    "from scipy import stats\n",
    "import matplotlib.pyplot as plt"
   ]
  },
  {
   "cell_type": "code",
   "execution_count": 403,
   "metadata": {
    "collapsed": true
   },
   "outputs": [],
   "source": [
    "data = pd.io.stata.read_stata('data/us_job_market_discrimination.dta')"
   ]
  },
  {
   "cell_type": "code",
   "execution_count": 404,
   "metadata": {},
   "outputs": [
    {
     "data": {
      "text/plain": [
       "235.0"
      ]
     },
     "execution_count": 404,
     "metadata": {},
     "output_type": "execute_result"
    }
   ],
   "source": [
    "# number of callbacks for black-sounding names\n",
    "sum(data[data.race=='w'].call)"
   ]
  },
  {
   "cell_type": "code",
   "execution_count": 405,
   "metadata": {},
   "outputs": [
    {
     "name": "stdout",
     "output_type": "stream",
     "text": [
      "<class 'pandas.core.frame.DataFrame'>\n",
      "Int64Index: 4870 entries, 0 to 4869\n",
      "Data columns (total 65 columns):\n",
      "id                    4870 non-null object\n",
      "ad                    4870 non-null object\n",
      "education             4870 non-null int8\n",
      "ofjobs                4870 non-null int8\n",
      "yearsexp              4870 non-null int8\n",
      "honors                4870 non-null int8\n",
      "volunteer             4870 non-null int8\n",
      "military              4870 non-null int8\n",
      "empholes              4870 non-null int8\n",
      "occupspecific         4870 non-null int16\n",
      "occupbroad            4870 non-null int8\n",
      "workinschool          4870 non-null int8\n",
      "email                 4870 non-null int8\n",
      "computerskills        4870 non-null int8\n",
      "specialskills         4870 non-null int8\n",
      "firstname             4870 non-null object\n",
      "sex                   4870 non-null object\n",
      "race                  4870 non-null object\n",
      "h                     4870 non-null float32\n",
      "l                     4870 non-null float32\n",
      "call                  4870 non-null float32\n",
      "city                  4870 non-null object\n",
      "kind                  4870 non-null object\n",
      "adid                  4870 non-null float32\n",
      "fracblack             4784 non-null float32\n",
      "fracwhite             4784 non-null float32\n",
      "lmedhhinc             4784 non-null float32\n",
      "fracdropout           4784 non-null float32\n",
      "fraccolp              4784 non-null float32\n",
      "linc                  4784 non-null float32\n",
      "col                   4870 non-null float32\n",
      "expminreq             4870 non-null object\n",
      "schoolreq             4870 non-null object\n",
      "eoe                   4870 non-null float32\n",
      "parent_sales          1672 non-null float32\n",
      "parent_emp            1722 non-null float32\n",
      "branch_sales          608 non-null float32\n",
      "branch_emp            658 non-null float32\n",
      "fed                   3102 non-null float32\n",
      "fracblack_empzip      1918 non-null float32\n",
      "fracwhite_empzip      1918 non-null float32\n",
      "lmedhhinc_empzip      1908 non-null float32\n",
      "fracdropout_empzip    1918 non-null float32\n",
      "fraccolp_empzip       1918 non-null float32\n",
      "linc_empzip           1918 non-null float32\n",
      "manager               4870 non-null float32\n",
      "supervisor            4870 non-null float32\n",
      "secretary             4870 non-null float32\n",
      "offsupport            4870 non-null float32\n",
      "salesrep              4870 non-null float32\n",
      "retailsales           4870 non-null float32\n",
      "req                   4870 non-null float32\n",
      "expreq                4870 non-null float32\n",
      "comreq                4870 non-null float32\n",
      "educreq               4870 non-null float32\n",
      "compreq               4870 non-null float32\n",
      "orgreq                4870 non-null float32\n",
      "manuf                 4870 non-null float32\n",
      "transcom              4870 non-null float32\n",
      "bankreal              4870 non-null float32\n",
      "trade                 4870 non-null float32\n",
      "busservice            4870 non-null float32\n",
      "othservice            4870 non-null float32\n",
      "missind               4870 non-null float32\n",
      "ownership             4870 non-null object\n",
      "dtypes: float32(42), int16(1), int8(12), object(10)\n",
      "memory usage: 1.3+ MB\n"
     ]
    }
   ],
   "source": [
    "data.info()"
   ]
  },
  {
   "cell_type": "markdown",
   "metadata": {
    "collapsed": true
   },
   "source": [
    "<div class=\"span5 alert alert-success\">\n",
    "<p>Your answers to Q1 and Q2 here</p>\n",
    "</div>"
   ]
  },
  {
   "cell_type": "markdown",
   "metadata": {},
   "source": [
    "#### 1. What test is appropriate for this problem? Does CLT apply?\n",
    "\n",
    "We may use both bootstrapping (permutation sampling) and frequentist statistics (two-sample proportion z-test) to solve this problem. CLT applies because there are 4870 resumes ID'd as either a black or white person."
   ]
  },
  {
   "cell_type": "code",
   "execution_count": 406,
   "metadata": {},
   "outputs": [
    {
     "data": {
      "text/plain": [
       "4870"
      ]
     },
     "execution_count": 406,
     "metadata": {},
     "output_type": "execute_result"
    }
   ],
   "source": [
    "combined = data[(data.race=='b') | (data.race=='w')]\n",
    "combined.call.count()"
   ]
  },
  {
   "cell_type": "markdown",
   "metadata": {},
   "source": [
    "#### 2. What are the null and alternate hypotheses?\n",
    "We are doing comparing two proportions where the proportion in question is call back rate. Our null hypothesis is that the black call back rate proportion, $p_b$, is the same as the white call back rate proportion, $p_w$. The alternative hypothesis is that the white call back rate proportion is greater than the black call back rate proportion.\n",
    "\n",
    "H_0: $p_w$ = $p_b$\n",
    "\n",
    "H_1: $p_w$ > $p_b$\n",
    "\n",
    "$α$ = 0.05"
   ]
  },
  {
   "cell_type": "code",
   "execution_count": 407,
   "metadata": {},
   "outputs": [
    {
     "name": "stdout",
     "output_type": "stream",
     "text": [
      "white callback rate = 0.097   black callback rate = 0.064  combined callback rate = 0.080\n"
     ]
    }
   ],
   "source": [
    "# Race Specific data\n",
    "w = data[data.race=='w']\n",
    "b = data[data.race=='b']\n",
    "\n",
    "# Number of calls per race\n",
    "w_calls = sum(data[data.race=='w'].call)\n",
    "b_calls = sum(data[data.race=='b'].call)\n",
    "combined_calls = w_calls + b_calls\n",
    "\n",
    "# Proportions\n",
    "p_w = w_calls/len(w)\n",
    "p_b = b_calls/len(b)\n",
    "p_combined = combined_calls/len(combined)\n",
    "\n",
    "print('white callback rate = %.3f   black callback rate = %.3f  combined callback rate = %.3f' % (p_w, p_b, p_combined))"
   ]
  },
  {
   "cell_type": "markdown",
   "metadata": {},
   "source": [
    "#### 3. Compute margin of error, confidence interval, and p-value. Try using both the bootstrapping and the frequentist statistical approaches."
   ]
  },
  {
   "cell_type": "code",
   "execution_count": 408,
   "metadata": {},
   "outputs": [
    {
     "name": "stdout",
     "output_type": "stream",
     "text": [
      "z-statistic = -4.116   p-value = 0.00001931   standard error = 0.0078\n"
     ]
    }
   ],
   "source": [
    "# Frequentist approach using two-sample z-test: Compute the p-value, standard error and z-statistic\n",
    "\n",
    "# Standard Deviation\n",
    "w_call_std = w.call.std()\n",
    "b_call_std = b.call.std()\n",
    "combined_call_std = combined.call.std()\n",
    "# Mean\n",
    "w_call_mean = w.call.mean()\n",
    "b_call_mean = b.call.mean()\n",
    "combined_call_mean = combined.call.mean()\n",
    "\n",
    "# length of array\n",
    "white_n = len(w.call)\n",
    "black_n = len(b.call)\n",
    "n = white_n + black_n\n",
    "\n",
    "# Empirical difference in the callback proportion of the two samples\n",
    "empirical_diff_prop = p_b - p_w\n",
    "\n",
    "# Calculate Z-statistic\n",
    "Z = 1.96\n",
    "std_error = np.sqrt((p_b*(1-p_b)/black_n)+(p_w*(1-p_w)/white_n))\n",
    "z_statistic = (empirical_diff_prop)/std_error\n",
    "p_val = stats.norm.sf(np.abs(z_statistic)) # one-tail p-value\n",
    "\n",
    "print('z-statistic = %.3f   p-value = %.8f   standard error = %.4f' % (z_statistic, p_val, std_error))"
   ]
  },
  {
   "cell_type": "code",
   "execution_count": 409,
   "metadata": {},
   "outputs": [
    {
     "name": "stdout",
     "output_type": "stream",
     "text": [
      "95% Confidence Interval: = (-0.047, -0.017)  Margin of error = 0.0153\n"
     ]
    }
   ],
   "source": [
    "# Frequentist approach using two-sample z-test: Margin of Error 95% confidence interval\n",
    "Z = 1.96\n",
    "error_margin = Z*std_error\n",
    "freq_ztest_CI_95 = [round(empirical_diff_prop - error_margin, 3), round(empirical_diff_prop + error_margin,3)]\n",
    "\n",
    "#print('95% Confidence Interval: ' + str(freq_ztest_CI_95))\n",
    "print('95% Confidence Interval: = ({:2.3f}, {:2.3f})  Margin of error = {:.4f}'.format(freq_ztest_CI_95[0], freq_ztest_CI_95[1], error_margin))"
   ]
  },
  {
   "cell_type": "code",
   "execution_count": 410,
   "metadata": {},
   "outputs": [
    {
     "data": {
      "image/png": "[encoded data removed]",
      "text/plain": [
       "<matplotlib.figure.Figure at 0x109456048>"
      ]
     },
     "metadata": {},
     "output_type": "display_data"
    }
   ],
   "source": [
    "# Frequentist approach using two-sample z-test: Plot 95% confidence interval\n",
    "\n",
    "# Parameters for plotting\n",
    "x = np.linspace(-0.055, -0.01, 100)\n",
    "pdf = stats.norm.pdf(x, empirical_diff_prop, std_error)\n",
    "\n",
    "# Plotting\n",
    "plt.axvline(x=freq_ztest_CI_95[0])\n",
    "plt.axvline(x=freq_ztest_CI_95[1])\n",
    "plt.plot(x, pdf, color='red') \n",
    "plt.fill_between(x, pdf, 1, color='red')\n",
    "\n",
    "# Labels\n",
    "plt.xlabel('Difference in Proportion')\n",
    "plt.title('Two-Sample Z-Test for Proportion')\n",
    "plt.show()"
   ]
  },
  {
   "cell_type": "code",
   "execution_count": 411,
   "metadata": {},
   "outputs": [
    {
     "name": "stdout",
     "output_type": "stream",
     "text": [
      "p-value = 0.0000000000\n"
     ]
    }
   ],
   "source": [
    "# Perform a two-sample bootstrap hypothesis test\n",
    "\n",
    "def get_prop_diff(data1, data2):\n",
    "    \"\"\"Generate a proportion difference from two data sets.\"\"\"\n",
    "    p1 = np.sum(data1)/len(data1)\n",
    "    p2 = np.sum(data2)/len(data2)\n",
    "    \n",
    "    return p1-p2\n",
    "\n",
    "def get_permutation_replicate(data1, data2, func, size=1):\n",
    "    \"\"\"Generate a permutation replicates from two data sets.\"\"\"\n",
    "    \n",
    "    permutation_replicates = np.empty(size)\n",
    "    data = np.concatenate((data1, data2))\n",
    "    # Concatenate the data sets: data    \n",
    "    for i in range(size):\n",
    "        # Permute the concatenated array: permuted_data\n",
    "        permutation_samples = np.random.permutation(data)\n",
    "\n",
    "        # Split the permuted array into two: perm_sample_1, perm_sample_2\n",
    "        perm_sample_1 = permutation_samples[:len(data1)]\n",
    "        perm_sample_2 = permutation_samples[len(data1):]\n",
    "        permutation_replicates[i] = func(perm_sample_1, perm_sample_2)\n",
    "        \n",
    "    return permutation_replicates\n",
    "\n",
    "\n",
    "# Compute 10,000 bootstrap replicates from shifted arrays\n",
    "bs_replicates = get_permutation_replicate(b.call, w.call, get_prop_diff, size=10000)\n",
    "\n",
    "# Compute and print p-value: p\n",
    "p_val = np.sum(bs_replicates <= empirical_diff_prop) / len(bs_replicates)\n",
    "print('p-value = %.10f' % p_val)"
   ]
  },
  {
   "cell_type": "code",
   "execution_count": 412,
   "metadata": {},
   "outputs": [
    {
     "name": "stdout",
     "output_type": "stream",
     "text": [
      "95% Confidence Interval: [-0.015, 0.016]\n"
     ]
    }
   ],
   "source": [
    "# Bootstrap approach: 95% confidence interval\n",
    "# Bootstrapping allows us to take percentiles of the bootstrap replicates to get the confidence interval\n",
    "bootstrap_CI_95 = np.percentile(bs_replicates,[2.5,97.5])\n",
    "bootstrap_CI_95 = [round(bootstrap_CI_95[0],3), round(bootstrap_CI_95[1],3)]\n",
    "print('95% Confidence Interval: ' + str(bootstrap_CI_95))"
   ]
  },
  {
   "cell_type": "code",
   "execution_count": 413,
   "metadata": {},
   "outputs": [
    {
     "data": {
      "image/png": "[encoded data removed]",
      "text/plain": [
       "<matplotlib.figure.Figure at 0x10945a128>"
      ]
     },
     "metadata": {},
     "output_type": "display_data"
    }
   ],
   "source": [
    "# Bootstrap approach: Plot distribution of the bootstrap replicates, and also plot the frequentist\n",
    "# Parameters for plotting\n",
    "x = np.linspace(-0.03, 0.03, 100)\n",
    "call_back_rate_mean = np.mean(bs_replicates)\n",
    "call_back_rate_std = np.std(bs_replicates)\n",
    "pdf = stats.norm.pdf(x, call_back_rate_mean, call_back_rate_std)\n",
    "\n",
    "# Plot\n",
    "plt.plot(x, pdf) \n",
    "plt.hist(bs_replicates, range = [-0.03, 0.03], normed=True) # set normed true because we are comparing to a pdf\n",
    "plt.axvline(x=bootstrap_CI_95[0])\n",
    "plt.axvline(x=bootstrap_CI_95[1])\n",
    "\n",
    "# Axis Labels\n",
    "plt.ylabel('Count')\n",
    "plt.xlabel('Difference in Proportion')\n",
    "plt.title('Permutation Sampling')\n",
    "plt.show()"
   ]
  },
  {
   "cell_type": "markdown",
   "metadata": {},
   "source": [
    "<div class=\"span5 alert alert-success\">\n",
    "<p> Your answers to Q4 and Q5 here </p>\n",
    "</div>"
   ]
  },
  {
   "cell_type": "markdown",
   "metadata": {
    "collapsed": true
   },
   "source": [
    "#### 4. Write a story describing the statistical significance in the context or the original problem."
   ]
  },
  {
   "cell_type": "markdown",
   "metadata": {},
   "source": [
    "In this study, we determine if there is statistically significant racial discrimination in the job market against \"black-sounding\" names, e.g. Tyronne. We used bootstrapping (permutation sampling) and frequentist statistics (two-sample proportion z-test) to solve the problem. Since this problem concerns comparing two proportions, we use callback rate proportion as our test statistic. Bootstapping showed a p-value of 0.0 with a 95% confidence interval of -0.016 to 0.015, while the z-test showed a p-value of 0.00001931 with a 95% confidence interval of -0.047 to -0.017. Both approaches favor the alternate hypothesis that \"white-sounding\" names have a higher call-back rate than \"black-sounding\" names. Racial discrimination in the job market is indeed still an issue for Black Americans."
   ]
  },
  {
   "cell_type": "markdown",
   "metadata": {},
   "source": [
    "#### 5. Does your analysis mean that race/name is the most important factor in callback success? Why or why not? If not, how would you amend your analysis?"
   ]
  },
  {
   "cell_type": "markdown",
   "metadata": {},
   "source": [
    "The analysis does not mean race/name is the most important factor in callback success because we have not yet studied other features. We could use a parametric machine learning algorithm, such as multiple linear regression or logistic regression, to determine the importance of other features based on the feature weights. From inspection, other features that may be important include: age, years of experience, sex, education, etc."
   ]
  }
 ],
 "metadata": {
  "kernelspec": {
   "display_name": "Python 3",
   "language": "python",
   "name": "python3"
  },
  "language_info": {
   "codemirror_mode": {
    "name": "ipython",
    "version": 3
   },
   "file_extension": ".py",
   "mimetype": "text/x-python",
   "name": "python",
   "nbconvert_exporter": "python",
   "pygments_lexer": "ipython3",
   "version": "3.6.3"
  }
 },
 "nbformat": 4,
 "nbformat_minor": 1
}
