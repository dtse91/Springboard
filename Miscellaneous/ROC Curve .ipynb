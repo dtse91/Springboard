{
 "cells": [
  {
   "cell_type": "code",
   "execution_count": 32,
   "metadata": {},
   "outputs": [
    {
     "data": {
      "image/png": "[encoded data removed]",
      "text/plain": [
       "<Figure size 432x288 with 1 Axes>"
      ]
     },
     "metadata": {},
     "output_type": "display_data"
    }
   ],
   "source": [
    "# Import libraries\n",
    "import matplotlib.pyplot as plt\n",
    "import numpy as np\n",
    "\n",
    "# Predicted probabilities\n",
    "score = np.array([0.9, 0.8, 0.7, 0.6, 0.55, 0.54, 0.53, 0.52, 0.51, 0.505, 0.4, 0.39, 0.38, 0.37, 0.36, 0.35, 0.34, 0.33, 0.30, 0.1])\n",
    "\n",
    "# Actuals\n",
    "y = np.array([1,1,0, 1, 1, 1, 0, 0, 1, 0, 1,0, 1, 0, 0, 0, 1 , 0, 1, 0])\n",
    "\n",
    "# Positive and negative class count\n",
    "P = sum(y)\n",
    "N = len(y)-sum(y)\n",
    "\n",
    "# Initiatiate variables\n",
    "TP = 0\n",
    "FP = 0\n",
    "Xcoord = []\n",
    "Ycoord = []\n",
    "pred = []\n",
    "\n",
    "# Vary threshold limit for prediction of negative and positive class\n",
    "limit = np.linspace(min(score),max(score),30)\n",
    "\n",
    "# For each threshold, calculate the true positive and false positive rates\n",
    "for i in range(len(limit)):\n",
    "    for j in range(len(score)):\n",
    "        # Predict negative class\n",
    "        if score[j] < limit[i]:\n",
    "            pred.append(0)\n",
    "        # Predict positive class\n",
    "        else:\n",
    "            pred.append(1)\n",
    "            # Add to True Positive and False Positive counter\n",
    "            if y[j] == 1:\n",
    "                TP+=1\n",
    "            else:\n",
    "                FP+=1\n",
    "    # Append for plotting\n",
    "    Ycoord.append(TP/P)\n",
    "    Xcoord.append(FP/N)\n",
    "    # Reset for next threshold limit\n",
    "    TP = 0\n",
    "    FP = 0\n",
    "\n",
    "# Plot\n",
    "plt.plot(Xcoord, Ycoord, marker='x')\n",
    "plt.xlabel('False Positive Rate')\n",
    "plt.ylabel('True Positive Rate')\n",
    "plt.title('ROC Curve')\n",
    "plt.show()\n",
    "            "
   ]
  }
 ],
 "metadata": {
  "kernelspec": {
   "display_name": "Python 3",
   "language": "python",
   "name": "python3"
  },
  "language_info": {
   "codemirror_mode": {
    "name": "ipython",
    "version": 3
   },
   "file_extension": ".py",
   "mimetype": "text/x-python",
   "name": "python",
   "nbconvert_exporter": "python",
   "pygments_lexer": "ipython3",
   "version": "3.6.3"
  }
 },
 "nbformat": 4,
 "nbformat_minor": 2
}
